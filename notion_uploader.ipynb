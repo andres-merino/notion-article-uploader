{
  "cells": [
    {
      "cell_type": "markdown",
      "metadata": {
        "id": "I7uCDw72xiEu"
      },
      "source": [
        "# <font color='264CC7'> notion_uploader </font>\n",
        "\n",
        "En construcción."
      ]
    },
    {
      "cell_type": "markdown",
      "metadata": {
        "id": "mJADCrGVxiEv"
      },
      "source": [
        "Los paquetes necesarios son:"
      ]
    },
    {
      "cell_type": "code",
      "execution_count": 1,
      "metadata": {},
      "outputs": [],
      "source": [
        "# !pip install pymupdf \n",
        "# !pip install openai\n",
        "# !pip install notion-client\n",
        "# !pip install pyTelegramBotAPI"
      ]
    },
    {
      "cell_type": "code",
      "execution_count": 2,
      "metadata": {
        "id": "JqO0d032xiEv"
      },
      "outputs": [],
      "source": [
        "# Paquetes necesarios\n",
        "import os\n",
        "import fitz  # PyMuPDF\n",
        "from openai import OpenAI \n",
        "from notion_client import Client\n",
        "import telebot\n",
        "from telebot.types import ReplyKeyboardMarkup, KeyboardButton"
      ]
    },
    {
      "cell_type": "code",
      "execution_count": 3,
      "metadata": {},
      "outputs": [],
      "source": [
        "# Asignar clave API de OpenAI\n",
        "from keys import OPENAI_API_KEY, NOTION_TOKEN, NOTION_DATABASE_ID, TELEGRAM_TOKEN, USUARIO_AUTORIZADO\n",
        "\n",
        "client = OpenAI(api_key=OPENAI_API_KEY)\n",
        "notion = Client(auth=NOTION_TOKEN)\n",
        "bot = telebot.TeleBot(TELEGRAM_TOKEN)"
      ]
    },
    {
      "cell_type": "markdown",
      "metadata": {
        "id": "AhPzdxpVxiEw"
      },
      "source": [
        "---\n",
        "## <font color='264CC7'> Lectura del PDF y extracción de datos </font>\n"
      ]
    },
    {
      "cell_type": "code",
      "execution_count": 4,
      "metadata": {
        "colab": {
          "base_uri": "https://localhost:8080/",
          "height": 206
        },
        "id": "9XYhnBmjxiEw",
        "outputId": "0311f49b-5ff4-4929-e4ee-1891fffd6d69"
      },
      "outputs": [],
      "source": [
        "# 📄 Función: Extraer texto desde PDF\n",
        "def extraer_texto_desde_pdf(ruta_pdf):\n",
        "    texto = \"\"\n",
        "    with fitz.open(ruta_pdf) as doc:\n",
        "        for pagina in doc:\n",
        "            texto += pagina.get_text()\n",
        "    return texto\n",
        "\n",
        "# 🤖 Función: Analizar con GPT\n",
        "def analizar_con_gpt(texto):\n",
        "    prompt = \"\"\"\n",
        "Extrae la siguiente información del texto de un artículo académico:\n",
        "\n",
        "- Título\n",
        "- Autor principal\n",
        "- Revista\n",
        "- Año\n",
        "- Tema (un tema como: Educación, Matemática, Ciencia de Datos, etc.)\n",
        "- Subtema (un subtema, máximo 2 palabras)\n",
        "- Dos ideas principales\n",
        "- Tres citas textuales\n",
        "\n",
        "Devuelve un JSON con la estructura:\n",
        "{\n",
        "  \"titulo\": \"...\",\n",
        "  \"autor_principal\": \"...\",\n",
        "  \"revista\": \"...\",\n",
        "  \"año\": ...,\n",
        "  \"tema\": [\"...\"],\n",
        "  \"subtema\": [\"...\"],\n",
        "  \"ideas_principales\": [\"...\"],\n",
        "  \"citas_textuales\": [\"...\"]\n",
        "}\n",
        "\n",
        "Texto:\n",
        "\"\"\" + texto\n",
        "    \n",
        "    response = client.chat.completions.create(\n",
        "        model=\"gpt-4o-mini\",\n",
        "        response_format={ \"type\": \"json_object\" },\n",
        "        messages=[{\"role\": \"user\", \"content\": prompt}],\n",
        "        temperature=0\n",
        "    )\n",
        "    return eval(response.choices[0].message.content)"
      ]
    },
    {
      "cell_type": "code",
      "execution_count": 5,
      "metadata": {},
      "outputs": [],
      "source": [
        "# ruta = \"datos/test.pdf\"\n",
        "# texto_extraido = extraer_texto_desde_pdf(ruta)\n",
        "# # Cantidad de caracteres extraídos\n",
        "# print(len(texto_extraido))"
      ]
    },
    {
      "cell_type": "code",
      "execution_count": 6,
      "metadata": {},
      "outputs": [],
      "source": [
        "# json_data = analizar_con_gpt(texto_extraido)\n",
        "\n",
        "# print(json_data)"
      ]
    },
    {
      "cell_type": "markdown",
      "metadata": {},
      "source": [
        "---\n",
        "## <font color='264CC7'> Envío a Notion </font>"
      ]
    },
    {
      "cell_type": "code",
      "execution_count": 7,
      "metadata": {},
      "outputs": [],
      "source": [
        "# json_data = \"\"\"\n",
        "# {\n",
        "#     \"titulo\": \"Minería de datos en la gestión académica de la educación superior\",\n",
        "#     \"autor_principal\": \"Harold Elbert Escobar Terán\",\n",
        "#     \"revista\": \"Didasc@lia: Didáctica y Educación\",\n",
        "#     \"año\": \"2017\",\n",
        "#     \"tema\": \"Educación\",\n",
        "#     \"subtema\": \"Minería de datos\",\n",
        "#     \"ideas_principales\": [\n",
        "#         \"La minería de datos permite mejorar.\",\n",
        "#         \"La implementación de técnicas de minería.\"\n",
        "#     ],\n",
        "#     \"citas_textuales\": [\n",
        "#         \"La minería de datos educativos.\",\n",
        "#         \"El análisis de estos factores.\",\n",
        "#         \"Estas técnicas aplicadas en los sistemas educativos tributa.\"\n",
        "#     ]\n",
        "# }\"\"\""
      ]
    },
    {
      "cell_type": "code",
      "execution_count": 8,
      "metadata": {},
      "outputs": [],
      "source": [
        "# 📤 Función: Enviar a Notion\n",
        "def enviar_a_notion(datos):\n",
        "    propiedades = {\n",
        "        \"Título\": {\"title\": [{\"text\": {\"content\": datos[\"titulo\"]}}]},\n",
        "        \"Autor principal\": {\"rich_text\": [{\"text\": {\"content\": datos[\"autor_principal\"]}}]},\n",
        "        \"Revista\": {\"rich_text\": [{\"text\": {\"content\": datos[\"revista\"]}}]},\n",
        "        \"Año\": {\"number\": int(datos[\"año\"])},\n",
        "        \"Lectura\": {\"select\": {\"name\": \"Completa\"}},\n",
        "        \"Tema\": {\"multi_select\": [{\"name\": t.strip()} for t in datos[\"tema\"]]},\n",
        "        \"Subtema\": {\"multi_select\": [{\"name\": s.strip()} for s in datos[\"subtema\"]]}\n",
        "    }\n",
        "\n",
        "    children = []\n",
        "\n",
        "    if datos[\"ideas_principales\"]:\n",
        "        children.append({\n",
        "            \"object\": \"block\",\n",
        "            \"type\": \"heading_2\",\n",
        "            \"heading_2\": {\"rich_text\": [{\"text\": {\"content\": \"Ideas principales\"}}]}\n",
        "        })\n",
        "        for idea in datos[\"ideas_principales\"]:\n",
        "            children.append({\n",
        "                \"object\": \"block\",\n",
        "                \"type\": \"bulleted_list_item\",\n",
        "                \"bulleted_list_item\": {\"rich_text\": [{\"text\": {\"content\": idea}}]}\n",
        "            })\n",
        "\n",
        "    if datos[\"citas_textuales\"]:\n",
        "        children.append({\n",
        "            \"object\": \"block\",\n",
        "            \"type\": \"heading_2\",\n",
        "            \"heading_2\": {\"rich_text\": [{\"text\": {\"content\": \"Citas\"}}]}\n",
        "        })\n",
        "        for cita in datos[\"citas_textuales\"]:\n",
        "            children.append({\n",
        "                \"object\": \"block\",\n",
        "                \"type\": \"quote\",\n",
        "                \"quote\": {\"rich_text\": [{\"text\": {\"content\": cita}}]}\n",
        "            })\n",
        "\n",
        "    notion.pages.create(\n",
        "        parent={\"database_id\": NOTION_DATABASE_ID},\n",
        "        properties=propiedades,\n",
        "        children=children\n",
        "    )"
      ]
    },
    {
      "cell_type": "code",
      "execution_count": 9,
      "metadata": {},
      "outputs": [],
      "source": [
        "# enviar_a_notion(json_data)"
      ]
    },
    {
      "cell_type": "markdown",
      "metadata": {},
      "source": [
        "---\n",
        "## <font color='264CC7'> Bot de Telegram </font>"
      ]
    },
    {
      "cell_type": "code",
      "execution_count": 10,
      "metadata": {},
      "outputs": [],
      "source": [
        "# 📍 Restricción de acceso\n",
        "def es_usuario_autorizado(message):\n",
        "    return message.from_user.id == int(USUARIO_AUTORIZADO)\n",
        "\n",
        "def acceso_restringido(func):\n",
        "    def wrapper(message):\n",
        "        if not es_usuario_autorizado(message):\n",
        "            bot.reply_to(message, \"⛔ No estás autorizado para usar este bot.\")\n",
        "            return\n",
        "        return func(message)\n",
        "    return wrapper\n",
        "\n",
        "# /start\n",
        "@bot.message_handler(commands=['start'])\n",
        "@acceso_restringido\n",
        "def start(message):\n",
        "    bot.send_message(\n",
        "        message.chat.id,\n",
        "        \"👋 ¡Hola! Envíame un artículo en formato PDF para procesarlo.\"\n",
        "    )\n",
        "\n",
        "# Archivos PDF\n",
        "@bot.message_handler(content_types=['document'])\n",
        "@acceso_restringido\n",
        "def handle_document(message):\n",
        "    if not message.document.file_name.lower().endswith(\".pdf\"):\n",
        "        bot.reply_to(message, \"Por favor, envía un archivo PDF.\")\n",
        "        return\n",
        "\n",
        "    bot.send_message(message.chat.id, \"📥 Descargando y procesando el archivo...\")\n",
        "\n",
        "    # Descargar el archivo\n",
        "    file_info = bot.get_file(message.document.file_id)\n",
        "    downloaded_file = bot.download_file(file_info.file_path)\n",
        "\n",
        "    ruta_pdf = f\"datos/{message.document.file_name}\"\n",
        "    os.makedirs(\"datos\", exist_ok=True)\n",
        "    with open(ruta_pdf, 'wb') as new_file:\n",
        "        new_file.write(downloaded_file)\n",
        "\n",
        "    try:\n",
        "        texto = extraer_texto_desde_pdf(ruta_pdf)\n",
        "        json_data = analizar_con_gpt(texto)\n",
        "        enviar_a_notion(json_data)\n",
        "        bot.send_message(message.chat.id, \"✅ Artículo procesado y enviado a Notion.\")\n",
        "    except Exception as e:\n",
        "        bot.send_message(message.chat.id, f\"⚠️ Ocurrió un error: {str(e)}\")\n",
        "\n",
        "# Fallback: otros mensajes\n",
        "@bot.message_handler(func=lambda message: True)\n",
        "def fallback(message):\n",
        "    if not es_usuario_autorizado(message):\n",
        "        return  # silencio\n",
        "    bot.reply_to(message, \"Por favor, envía un archivo PDF.\")\n",
        "\n",
        "# Iniciar el bot\n",
        "bot.polling()"
      ]
    },
    {
      "cell_type": "code",
      "execution_count": null,
      "metadata": {},
      "outputs": [],
      "source": []
    }
  ],
  "metadata": {
    "colab": {
      "provenance": []
    },
    "kernelspec": {
      "display_name": "Python 3",
      "language": "python",
      "name": "python3"
    },
    "language_info": {
      "codemirror_mode": {
        "name": "ipython",
        "version": 3
      },
      "file_extension": ".py",
      "mimetype": "text/x-python",
      "name": "python",
      "nbconvert_exporter": "python",
      "pygments_lexer": "ipython3",
      "version": "3.9.7"
    }
  },
  "nbformat": 4,
  "nbformat_minor": 0
}
