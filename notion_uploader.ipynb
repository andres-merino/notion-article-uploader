{
  "cells": [
    {
      "cell_type": "markdown",
      "metadata": {
        "id": "I7uCDw72xiEu"
      },
      "source": [
        "# <font color='264CC7'> notion_uploader </font>\n",
        "\n",
        "En construcción."
      ]
    },
    {
      "cell_type": "markdown",
      "metadata": {
        "id": "mJADCrGVxiEv"
      },
      "source": [
        "Los paquetes necesarios son:"
      ]
    },
    {
      "cell_type": "code",
      "execution_count": 1,
      "metadata": {},
      "outputs": [],
      "source": [
        "# !pip install pymupdf \n",
        "# !pip install openai\n",
        "# !pip install notion-client"
      ]
    },
    {
      "cell_type": "code",
      "execution_count": 2,
      "metadata": {
        "id": "JqO0d032xiEv"
      },
      "outputs": [],
      "source": [
        "# Paquetes necesarios\n",
        "import fitz  # PyMuPDF\n",
        "from openai import OpenAI \n",
        "from notion_client import Client"
      ]
    },
    {
      "cell_type": "code",
      "execution_count": 3,
      "metadata": {},
      "outputs": [],
      "source": [
        "# Asignar clave API de OpenAI\n",
        "from keys import OPENAI_API_KEY, NOTION_TOKEN, NOTION_DATABASE_ID\n",
        "\n",
        "client = OpenAI(api_key=OPENAI_API_KEY)\n",
        "notion = Client(auth=NOTION_TOKEN)"
      ]
    },
    {
      "cell_type": "markdown",
      "metadata": {
        "id": "AhPzdxpVxiEw"
      },
      "source": [
        "---\n",
        "## <font color='264CC7'> Lectura del PDF y extracción de datos </font>\n"
      ]
    },
    {
      "cell_type": "code",
      "execution_count": 4,
      "metadata": {
        "colab": {
          "base_uri": "https://localhost:8080/",
          "height": 206
        },
        "id": "9XYhnBmjxiEw",
        "outputId": "0311f49b-5ff4-4929-e4ee-1891fffd6d69"
      },
      "outputs": [],
      "source": [
        "# 📄 Función: Extraer texto desde PDF\n",
        "def extraer_texto_desde_pdf(ruta_pdf):\n",
        "    texto = \"\"\n",
        "    with fitz.open(ruta_pdf) as doc:\n",
        "        for pagina in doc:\n",
        "            texto += pagina.get_text()\n",
        "    return texto\n",
        "\n",
        "# 🤖 Función: Analizar con GPT\n",
        "def analizar_con_gpt(texto):\n",
        "    prompt = \"\"\"\n",
        "Extrae la siguiente información del texto de un artículo académico:\n",
        "\n",
        "- Título\n",
        "- Autor principal\n",
        "- Revista\n",
        "- Año\n",
        "- Tema (un tema como: Educación, Matemática, Ciencia de Datos, etc.)\n",
        "- Subtema (un subtema, máximo 2 palabras)\n",
        "- Dos ideas principales\n",
        "- Tres citas textuales\n",
        "\n",
        "Devuelve un JSON con la estructura:\n",
        "{\n",
        "  \"titulo\": \"...\",\n",
        "  \"autor_principal\": \"...\",\n",
        "  \"revista\": \"...\",\n",
        "  \"año\": ...,\n",
        "  \"tema\": [\"...\"],\n",
        "  \"subtema\": [\"...\"],\n",
        "  \"ideas_principales\": [\"...\"],\n",
        "  \"citas_textuales\": [\"...\"]\n",
        "}\n",
        "\n",
        "Texto:\n",
        "\"\"\" + texto\n",
        "    \n",
        "    response = client.chat.completions.create(\n",
        "        model=\"gpt-4o-mini\",\n",
        "        response_format={ \"type\": \"json_object\" },\n",
        "        messages=[{\"role\": \"user\", \"content\": prompt}],\n",
        "        temperature=0\n",
        "    )\n",
        "    return eval(response.choices[0].message.content)"
      ]
    },
    {
      "cell_type": "code",
      "execution_count": 5,
      "metadata": {},
      "outputs": [
        {
          "name": "stdout",
          "output_type": "stream",
          "text": [
            "32994\n"
          ]
        }
      ],
      "source": [
        "ruta = \"datos/test.pdf\"\n",
        "texto_extraido = extraer_texto_desde_pdf(ruta)\n",
        "# Cantidad de caracteres extraídos\n",
        "print(len(texto_extraido))"
      ]
    },
    {
      "cell_type": "code",
      "execution_count": 6,
      "metadata": {},
      "outputs": [
        {
          "name": "stdout",
          "output_type": "stream",
          "text": [
            "{'titulo': 'Minería de datos en la gestión académica de la educación superior', 'autor_principal': 'Harold Elbert Escobar Terán', 'revista': 'Didasc@lia: Didáctica y Educación', 'año': 2017, 'tema': ['Educación'], 'subtema': ['Minería de datos'], 'ideas_principales': ['La minería de datos puede mejorar la eficiencia académica y ayudar a personalizar el aprendizaje de los estudiantes.', 'La implementación de técnicas de minería de datos en la educación permite identificar factores que influyen en el rendimiento y la deserción escolar.'], 'citas_textuales': ['La preocupación de los administradores educativos por mejorar la eficiencia académica y cumplir con el encargo social de potenciar el talento humano.', 'La minería de datos educativos permite el desarrollo de métodos para el descubrimiento de tipos particulares de datos que provienen de plataformas educativas.', 'La implementación de minería de datos educativos se está constituyendo en una de las herramientas más prácticas hoy en día para ayudar a entender las determinantes del rendimiento de los estudiantes.']}\n"
          ]
        }
      ],
      "source": [
        "json_data = analizar_con_gpt(texto_extraido)\n",
        "\n",
        "print(json_data)"
      ]
    },
    {
      "cell_type": "markdown",
      "metadata": {},
      "source": [
        "---\n",
        "## <font color='264CC7'> Envío a Notion </font>"
      ]
    },
    {
      "cell_type": "code",
      "execution_count": 7,
      "metadata": {},
      "outputs": [],
      "source": [
        "# json_data = \"\"\"\n",
        "# {\n",
        "#     \"titulo\": \"Minería de datos en la gestión académica de la educación superior\",\n",
        "#     \"autor_principal\": \"Harold Elbert Escobar Terán\",\n",
        "#     \"revista\": \"Didasc@lia: Didáctica y Educación\",\n",
        "#     \"año\": \"2017\",\n",
        "#     \"tema\": \"Educación\",\n",
        "#     \"subtema\": \"Minería de datos\",\n",
        "#     \"ideas_principales\": [\n",
        "#         \"La minería de datos permite mejorar.\",\n",
        "#         \"La implementación de técnicas de minería.\"\n",
        "#     ],\n",
        "#     \"citas_textuales\": [\n",
        "#         \"La minería de datos educativos.\",\n",
        "#         \"El análisis de estos factores.\",\n",
        "#         \"Estas técnicas aplicadas en los sistemas educativos tributa.\"\n",
        "#     ]\n",
        "# }\"\"\""
      ]
    },
    {
      "cell_type": "code",
      "execution_count": 8,
      "metadata": {},
      "outputs": [],
      "source": [
        "# 📤 Función: Enviar a Notion\n",
        "def enviar_a_notion(datos):\n",
        "    propiedades = {\n",
        "        \"Título\": {\"title\": [{\"text\": {\"content\": datos[\"titulo\"]}}]},\n",
        "        \"Autor principal\": {\"rich_text\": [{\"text\": {\"content\": datos[\"autor_principal\"]}}]},\n",
        "        \"Revista\": {\"rich_text\": [{\"text\": {\"content\": datos[\"revista\"]}}]},\n",
        "        \"Año\": {\"number\": int(datos[\"año\"])},\n",
        "        \"Lectura\": {\"select\": {\"name\": \"Completa\"}},\n",
        "        \"Tema\": {\"multi_select\": [{\"name\": t.strip()} for t in datos[\"tema\"]]},\n",
        "        \"Subtema\": {\"multi_select\": [{\"name\": s.strip()} for s in datos[\"subtema\"]]}\n",
        "    }\n",
        "\n",
        "    children = []\n",
        "\n",
        "    if datos[\"ideas_principales\"]:\n",
        "        children.append({\n",
        "            \"object\": \"block\",\n",
        "            \"type\": \"heading_2\",\n",
        "            \"heading_2\": {\"rich_text\": [{\"text\": {\"content\": \"Ideas principales\"}}]}\n",
        "        })\n",
        "        for idea in datos[\"ideas_principales\"]:\n",
        "            children.append({\n",
        "                \"object\": \"block\",\n",
        "                \"type\": \"bulleted_list_item\",\n",
        "                \"bulleted_list_item\": {\"rich_text\": [{\"text\": {\"content\": idea}}]}\n",
        "            })\n",
        "\n",
        "    if datos[\"citas_textuales\"]:\n",
        "        children.append({\n",
        "            \"object\": \"block\",\n",
        "            \"type\": \"heading_2\",\n",
        "            \"heading_2\": {\"rich_text\": [{\"text\": {\"content\": \"Citas\"}}]}\n",
        "        })\n",
        "        for cita in datos[\"citas_textuales\"]:\n",
        "            children.append({\n",
        "                \"object\": \"block\",\n",
        "                \"type\": \"quote\",\n",
        "                \"quote\": {\"rich_text\": [{\"text\": {\"content\": cita}}]}\n",
        "            })\n",
        "\n",
        "    notion.pages.create(\n",
        "        parent={\"database_id\": NOTION_DATABASE_ID},\n",
        "        properties=propiedades,\n",
        "        children=children\n",
        "    )"
      ]
    },
    {
      "cell_type": "code",
      "execution_count": 9,
      "metadata": {},
      "outputs": [],
      "source": [
        "enviar_a_notion(json_data)"
      ]
    },
    {
      "cell_type": "code",
      "execution_count": null,
      "metadata": {},
      "outputs": [],
      "source": []
    }
  ],
  "metadata": {
    "colab": {
      "provenance": []
    },
    "kernelspec": {
      "display_name": "Python 3",
      "language": "python",
      "name": "python3"
    },
    "language_info": {
      "codemirror_mode": {
        "name": "ipython",
        "version": 3
      },
      "file_extension": ".py",
      "mimetype": "text/x-python",
      "name": "python",
      "nbconvert_exporter": "python",
      "pygments_lexer": "ipython3",
      "version": "3.9.7"
    }
  },
  "nbformat": 4,
  "nbformat_minor": 0
}
